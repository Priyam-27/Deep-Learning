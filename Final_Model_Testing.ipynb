{
 "cells": [
  {
   "cell_type": "markdown",
   "metadata": {},
   "source": [
    "### Import Libraries"
   ]
  },
  {
   "cell_type": "code",
   "execution_count": 15,
   "metadata": {},
   "outputs": [],
   "source": [
    "from keras.models import load_model\n",
    "import pickle\n",
    "import cv2\n",
    "import numpy as np\n",
    "import cvlib as cv\n",
    "from PIL import Image\n",
    "\n",
    "import matplotlib.pyplot as plt\n",
    "from cvlib.object_detection import draw_bbox\n",
    "%matplotlib inline"
   ]
  },
  {
   "cell_type": "markdown",
   "metadata": {},
   "source": [
    "#### Loading Trained Model"
   ]
  },
  {
   "cell_type": "code",
   "execution_count": 7,
   "metadata": {},
   "outputs": [
    {
     "name": "stdout",
     "output_type": "stream",
     "text": [
      "WARNING:tensorflow:Error in loading the saved optimizer state. As a result, your model is starting with a freshly initialized optimizer.\n"
     ]
    }
   ],
   "source": [
    "loaded_model=load_model('FruitClassifier.h5')"
   ]
  },
  {
   "cell_type": "code",
   "execution_count": 8,
   "metadata": {},
   "outputs": [
    {
     "name": "stdout",
     "output_type": "stream",
     "text": [
      "Model: \"sequential\"\n",
      "_________________________________________________________________\n",
      "Layer (type)                 Output Shape              Param #   \n",
      "=================================================================\n",
      "conv2d (Conv2D)              (None, 96, 96, 48)        3648      \n",
      "_________________________________________________________________\n",
      "conv2d_1 (Conv2D)            (None, 92, 92, 112)       134512    \n",
      "_________________________________________________________________\n",
      "conv2d_2 (Conv2D)            (None, 88, 88, 112)       313712    \n",
      "_________________________________________________________________\n",
      "flatten (Flatten)            (None, 867328)            0         \n",
      "_________________________________________________________________\n",
      "dense (Dense)                (None, 48)                41631792  \n",
      "_________________________________________________________________\n",
      "dense_1 (Dense)              (None, 1)                 49        \n",
      "=================================================================\n",
      "Total params: 42,083,713\n",
      "Trainable params: 42,083,713\n",
      "Non-trainable params: 0\n",
      "_________________________________________________________________\n"
     ]
    }
   ],
   "source": [
    "loaded_model.summary()"
   ]
  },
  {
   "cell_type": "code",
   "execution_count": 9,
   "metadata": {},
   "outputs": [],
   "source": [
    "def predict_class(img):\n",
    "    img=cv2.resize(img, (100,100))\n",
    "    img=img/255\n",
    "    Img=img.reshape(1,100,100,3)\n",
    "    for i in loaded_model.predict(Img):\n",
    "        for j in i:\n",
    "            if i >= 0.5:\n",
    "                return 'Rotten'\n",
    "            else:\n",
    "                return 'Fresh'"
   ]
  },
  {
   "cell_type": "code",
   "execution_count": 26,
   "metadata": {},
   "outputs": [],
   "source": [
    "def classify_fruit(img):  # input as openCV image\n",
    "    # converting openCV to PIL for cropping\n",
    "    Img = cv2.cvtColor(img, cv2.COLOR_BGR2RGB)\n",
    "    PIL_img = Image.fromarray(Img)\n",
    "    \n",
    "    coor, label, conf = cv.detect_common_objects(img)    # detectimg fruit\n",
    "    for i in coor:\n",
    "        for j in label:\n",
    "            if j == 'orange' or j == 'apple' or j == 'banana':      # checking for our 3 classes apple, banana, oranges\n",
    "                x,y,w,h = i\n",
    "                roi = PIL_img.crop((i))                            # cropping Image to find roi (region of interest)\n",
    "                roi = np.asarray(roi)\n",
    "                if predict_class(roi) == 'Rotten':\n",
    "                    cv2.rectangle(img, (x,y), (w,h), (0,0,255), 2)\n",
    "                    cv2.putText(img, 'Rotten', (x+5, y+18), cv2.FONT_HERSHEY_COMPLEX_SMALL, 1, (0,0,255), 2)\n",
    "                elif predict_class(roi) == 'Fresh':\n",
    "                    cv2.rectangle(img, (x,y), (w,h), (0,255,0), 2)\n",
    "                    cv2.putText(img, 'Fresh', (x+5, y+18), cv2.FONT_HERSHEY_COMPLEX_SMALL, 1, (0,255,0), 2)\n",
    "                    \n",
    "    return img"
   ]
  },
  {
   "cell_type": "markdown",
   "metadata": {},
   "source": [
    "#### Testing on Image"
   ]
  },
  {
   "cell_type": "code",
   "execution_count": null,
   "metadata": {},
   "outputs": [],
   "source": [
    "img = cv2.imread('download.jpg')\n",
    "plt.figure(figsize=(9,9))\n",
    "image=cv2.cvtColor(classify_fruit(img), cv2.COLOR_BGR2RGB)\n",
    "plt.imshow(image)"
   ]
  },
  {
   "cell_type": "code",
   "execution_count": null,
   "metadata": {},
   "outputs": [],
   "source": [
    "cv2.imshow('window', classify_fruit(img))\n",
    "# plt.imshow(classify_fruit(img))\n",
    "cv2.waitKey(5000)\n",
    "cv2.destroyAllWindows()"
   ]
  },
  {
   "cell_type": "markdown",
   "metadata": {},
   "source": [
    "#### Testing on Video"
   ]
  },
  {
   "cell_type": "code",
   "execution_count": null,
   "metadata": {},
   "outputs": [],
   "source": [
    "cap = cv2.VideoCapture('Orange Timelapse.mp4')\n",
    "cap.set(cv2.CAP_PROP_FPS,15)\n",
    "fps = int(cap.get(5))\n",
    "print(f'fps : {fps}')\n",
    "\n",
    "\n",
    "width = int(cap.get(cv2.CAP_PROP_FRAME_WIDTH))\n",
    "height = int(cap.get(cv2.CAP_PROP_FRAME_HEIGHT))\n",
    "\n",
    "writer= cv2.VideoWriter('real_insta.mp4', cv2.VideoWriter_fourcc(*'DIVX'), 30, (width, height))\n",
    "\n",
    "if cap.isOpened() == False:\n",
    "    print('Error in opening video!!')\n",
    "else:\n",
    "    while cap.isOpened()==True:\n",
    "        ret, image = cap.read()\n",
    "        if ret==True:\n",
    "            cv2.imshow('Window', classify_fruit(image))\n",
    "            writer.write(classify_fruit(image))\n",
    "            if cv2.waitKey(25) & 0xFF == ord('q'):\n",
    "                break\n",
    "        else:\n",
    "            break\n",
    "cap.release()\n",
    "writer.release()\n",
    "cv2.destroyAllWindows()"
   ]
  },
  {
   "cell_type": "code",
   "execution_count": null,
   "metadata": {},
   "outputs": [],
   "source": []
  },
  {
   "cell_type": "code",
   "execution_count": null,
   "metadata": {},
   "outputs": [],
   "source": []
  },
  {
   "cell_type": "code",
   "execution_count": null,
   "metadata": {},
   "outputs": [],
   "source": []
  },
  {
   "cell_type": "code",
   "execution_count": null,
   "metadata": {},
   "outputs": [],
   "source": []
  },
  {
   "cell_type": "code",
   "execution_count": null,
   "metadata": {},
   "outputs": [],
   "source": []
  },
  {
   "cell_type": "code",
   "execution_count": null,
   "metadata": {},
   "outputs": [],
   "source": []
  },
  {
   "cell_type": "code",
   "execution_count": null,
   "metadata": {},
   "outputs": [],
   "source": []
  },
  {
   "cell_type": "code",
   "execution_count": null,
   "metadata": {},
   "outputs": [],
   "source": []
  },
  {
   "cell_type": "code",
   "execution_count": null,
   "metadata": {},
   "outputs": [],
   "source": []
  }
 ],
 "metadata": {
  "kernelspec": {
   "display_name": "Python 3",
   "language": "python",
   "name": "python3"
  },
  "language_info": {
   "codemirror_mode": {
    "name": "ipython",
    "version": 3
   },
   "file_extension": ".py",
   "mimetype": "text/x-python",
   "name": "python",
   "nbconvert_exporter": "python",
   "pygments_lexer": "ipython3",
   "version": "3.8.5"
  }
 },
 "nbformat": 4,
 "nbformat_minor": 4
}
