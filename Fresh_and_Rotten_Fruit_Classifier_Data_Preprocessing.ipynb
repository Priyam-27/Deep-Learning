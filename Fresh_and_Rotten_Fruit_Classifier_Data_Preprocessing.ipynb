{
  "nbformat": 4,
  "nbformat_minor": 0,
  "metadata": {
    "colab": {
      "name": "Fresh and Rotten Fruit Classifier - Data Preprocessing.ipynb",
      "provenance": [],
      "collapsed_sections": []
    },
    "kernelspec": {
      "name": "python3",
      "display_name": "Python 3"
    },
    "accelerator": "GPU"
  },
  "cells": [
    {
      "cell_type": "markdown",
      "metadata": {
        "id": "vFnZAir3BqNQ"
      },
      "source": [
        "### Mounting Drive\r\n",
        "\r\n"
      ]
    },
    {
      "cell_type": "code",
      "metadata": {
        "colab": {
          "base_uri": "https://localhost:8080/"
        },
        "id": "MUIDdGJSBGLO",
        "outputId": "3d100260-535c-4d75-de6f-162807d20cf0"
      },
      "source": [
        "from google.colab import drive\r\n",
        "drive.mount('/content/drive')"
      ],
      "execution_count": null,
      "outputs": [
        {
          "output_type": "stream",
          "text": [
            "Drive already mounted at /content/drive; to attempt to forcibly remount, call drive.mount(\"/content/drive\", force_remount=True).\n"
          ],
          "name": "stdout"
        }
      ]
    },
    {
      "cell_type": "markdown",
      "metadata": {
        "id": "HB1-oCGIB6RE"
      },
      "source": [
        "### Importing Libraries"
      ]
    },
    {
      "cell_type": "code",
      "metadata": {
        "id": "71ra32VLB2nC"
      },
      "source": [
        "import os\r\n",
        "import pickle\r\n",
        "import numpy as np\r\n",
        "import cv2\r\n",
        "import random\r\n",
        "import matplotlib.pyplot as plt\r\n",
        "%matplotlib inline"
      ],
      "execution_count": null,
      "outputs": []
    },
    {
      "cell_type": "code",
      "metadata": {
        "id": "rx8nt34jCIFK"
      },
      "source": [
        "path = r'/content/drive/MyDrive/Fresh and rotten fruit classifiication/DataSet/train'\r\n",
        "categories = ['fresh', 'rotten']"
      ],
      "execution_count": null,
      "outputs": []
    },
    {
      "cell_type": "code",
      "metadata": {
        "colab": {
          "base_uri": "https://localhost:8080/"
        },
        "id": "Oib2QfxtCVvk",
        "outputId": "e46aded3-3cf7-4778-aa41-63a8d1607dfb"
      },
      "source": [
        "size=100\r\n",
        "data = []\r\n",
        "\r\n",
        "for category in categories:\r\n",
        "  cat_path=os.path.join(path, category)\r\n",
        "  labels=categories.index(category)\r\n",
        "  for img_path in os.listdir(cat_path):\r\n",
        "    img=os.path.join(cat_path, img_path)\r\n",
        "    Img=cv2.imread(img)\r\n",
        "    Img=cv2.resize(Img, (size, size))\r\n",
        "    data.append([Img,labels])\r\n",
        "    \r\n",
        "print(f'{len(data)} images uploded of {len(categories)} categories...')"
      ],
      "execution_count": null,
      "outputs": [
        {
          "output_type": "stream",
          "text": [
            "9497 images uploded of 2 categories...\n"
          ],
          "name": "stdout"
        }
      ]
    },
    {
      "cell_type": "code",
      "metadata": {
        "colab": {
          "base_uri": "https://localhost:8080/"
        },
        "id": "PFn6j1c_EjZO",
        "outputId": "67b9fea3-c129-459a-fe42-bd88e1b96d86"
      },
      "source": [
        "len(data)"
      ],
      "execution_count": null,
      "outputs": [
        {
          "output_type": "execute_result",
          "data": {
            "text/plain": [
              "9497"
            ]
          },
          "metadata": {
            "tags": []
          },
          "execution_count": 8
        }
      ]
    },
    {
      "cell_type": "code",
      "metadata": {
        "id": "bUYf_GUmEroQ"
      },
      "source": [
        "random.shuffle(data)"
      ],
      "execution_count": null,
      "outputs": []
    },
    {
      "cell_type": "markdown",
      "metadata": {
        "id": "QqtTynvojX4I"
      },
      "source": [
        "### Separating images and labels"
      ]
    },
    {
      "cell_type": "code",
      "metadata": {
        "id": "jr7_NUc9EB5i"
      },
      "source": [
        "images=[]\r\n",
        "labels=[]"
      ],
      "execution_count": null,
      "outputs": []
    },
    {
      "cell_type": "code",
      "metadata": {
        "id": "HLOzQsFuinqH"
      },
      "source": [
        "for image, label in data:\r\n",
        "  images.append(image)\r\n",
        "  labels.append(label)\r\n"
      ],
      "execution_count": null,
      "outputs": []
    },
    {
      "cell_type": "code",
      "metadata": {
        "colab": {
          "base_uri": "https://localhost:8080/"
        },
        "id": "cxIHeKnZEN4w",
        "outputId": "a5ef5cf3-f454-4e99-a499-32e7e315d2f3"
      },
      "source": [
        "len(images)"
      ],
      "execution_count": null,
      "outputs": [
        {
          "output_type": "execute_result",
          "data": {
            "text/plain": [
              "9497"
            ]
          },
          "metadata": {
            "tags": []
          },
          "execution_count": 12
        }
      ]
    },
    {
      "cell_type": "code",
      "metadata": {
        "colab": {
          "base_uri": "https://localhost:8080/"
        },
        "id": "Y39OwGJOEeTP",
        "outputId": "3da01314-1a1f-4bc5-bc3b-8b7ec800ce09"
      },
      "source": [
        "len(labels)"
      ],
      "execution_count": null,
      "outputs": [
        {
          "output_type": "execute_result",
          "data": {
            "text/plain": [
              "9497"
            ]
          },
          "metadata": {
            "tags": []
          },
          "execution_count": 13
        }
      ]
    },
    {
      "cell_type": "code",
      "metadata": {
        "id": "6K5hdM_TEgHd"
      },
      "source": [
        "Images=np.array(images)\r\n",
        "Labels=np.array(labels)"
      ],
      "execution_count": null,
      "outputs": []
    },
    {
      "cell_type": "code",
      "metadata": {
        "id": "GkyF6zO3Fu3j"
      },
      "source": [
        "pickle.dump(Images,open('Images.pkl', 'wb'))\r\n",
        "pickle.dump(Labels,open('Labels.pkl', 'wb'))"
      ],
      "execution_count": null,
      "outputs": []
    }
  ]
}