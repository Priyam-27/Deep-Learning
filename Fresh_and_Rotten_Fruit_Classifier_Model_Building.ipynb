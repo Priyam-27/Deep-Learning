{
  "nbformat": 4,
  "nbformat_minor": 0,
  "metadata": {
    "colab": {
      "name": "Fresh and Rotten Fruit Classifier Model Building.ipynb",
      "provenance": [],
      "collapsed_sections": []
    },
    "kernelspec": {
      "name": "python3",
      "display_name": "Python 3"
    },
    "accelerator": "GPU"
  },
  "cells": [
    {
      "cell_type": "markdown",
      "metadata": {
        "id": "RO5jaQd1M-Dw"
      },
      "source": [
        "### Mounting drive"
      ]
    },
    {
      "cell_type": "code",
      "metadata": {
        "colab": {
          "base_uri": "https://localhost:8080/"
        },
        "id": "KKjXMMR4Mwj7",
        "outputId": "943617b0-022c-496b-b885-892a625fe086"
      },
      "source": [
        "from google.colab import drive\r\n",
        "drive.mount('/content/drive')"
      ],
      "execution_count": null,
      "outputs": [
        {
          "output_type": "stream",
          "text": [
            "Drive already mounted at /content/drive; to attempt to forcibly remount, call drive.mount(\"/content/drive\", force_remount=True).\n"
          ],
          "name": "stdout"
        }
      ]
    },
    {
      "cell_type": "markdown",
      "metadata": {
        "id": "3wH5WMdcNYqm"
      },
      "source": [
        "### Installing keras tuner"
      ]
    },
    {
      "cell_type": "code",
      "metadata": {
        "colab": {
          "base_uri": "https://localhost:8080/"
        },
        "id": "YHVo_qfVNEcp",
        "outputId": "994801ca-827f-4664-e3e2-31f5583fd7b9"
      },
      "source": [
        "! pip install keras-tuner"
      ],
      "execution_count": null,
      "outputs": [
        {
          "output_type": "stream",
          "text": [
            "Requirement already satisfied: keras-tuner in /usr/local/lib/python3.6/dist-packages (1.0.2)\n",
            "Requirement already satisfied: colorama in /usr/local/lib/python3.6/dist-packages (from keras-tuner) (0.4.4)\n",
            "Requirement already satisfied: tqdm in /usr/local/lib/python3.6/dist-packages (from keras-tuner) (4.41.1)\n",
            "Requirement already satisfied: requests in /usr/local/lib/python3.6/dist-packages (from keras-tuner) (2.23.0)\n",
            "Requirement already satisfied: future in /usr/local/lib/python3.6/dist-packages (from keras-tuner) (0.16.0)\n",
            "Requirement already satisfied: packaging in /usr/local/lib/python3.6/dist-packages (from keras-tuner) (20.7)\n",
            "Requirement already satisfied: tabulate in /usr/local/lib/python3.6/dist-packages (from keras-tuner) (0.8.7)\n",
            "Requirement already satisfied: numpy in /usr/local/lib/python3.6/dist-packages (from keras-tuner) (1.18.5)\n",
            "Requirement already satisfied: terminaltables in /usr/local/lib/python3.6/dist-packages (from keras-tuner) (3.1.0)\n",
            "Requirement already satisfied: scipy in /usr/local/lib/python3.6/dist-packages (from keras-tuner) (1.4.1)\n",
            "Requirement already satisfied: scikit-learn in /usr/local/lib/python3.6/dist-packages (from keras-tuner) (0.22.2.post1)\n",
            "Requirement already satisfied: certifi>=2017.4.17 in /usr/local/lib/python3.6/dist-packages (from requests->keras-tuner) (2020.12.5)\n",
            "Requirement already satisfied: chardet<4,>=3.0.2 in /usr/local/lib/python3.6/dist-packages (from requests->keras-tuner) (3.0.4)\n",
            "Requirement already satisfied: urllib3!=1.25.0,!=1.25.1,<1.26,>=1.21.1 in /usr/local/lib/python3.6/dist-packages (from requests->keras-tuner) (1.24.3)\n",
            "Requirement already satisfied: idna<3,>=2.5 in /usr/local/lib/python3.6/dist-packages (from requests->keras-tuner) (2.10)\n",
            "Requirement already satisfied: pyparsing>=2.0.2 in /usr/local/lib/python3.6/dist-packages (from packaging->keras-tuner) (2.4.7)\n",
            "Requirement already satisfied: joblib>=0.11 in /usr/local/lib/python3.6/dist-packages (from scikit-learn->keras-tuner) (0.17.0)\n"
          ],
          "name": "stdout"
        }
      ]
    },
    {
      "cell_type": "markdown",
      "metadata": {
        "id": "QoRtRe22N-LD"
      },
      "source": [
        "### Importing libraries"
      ]
    },
    {
      "cell_type": "code",
      "metadata": {
        "id": "sT6twFNdN5eY"
      },
      "source": [
        "import numpy as np\r\n",
        "import pickle\r\n",
        "import pandas as pd\r\n",
        "import seaborn as sns\r\n",
        "from tensorflow import keras\r\n",
        "from keras.models import Sequential\r\n",
        "from keras.layers import Conv2D, Flatten, Dense\r\n",
        "%matplotlib inline\r\n",
        "sns.set_style('darkgrid')"
      ],
      "execution_count": null,
      "outputs": []
    },
    {
      "cell_type": "code",
      "metadata": {
        "id": "dIZ2hJOuPubo"
      },
      "source": [
        "X=pickle.load(open('/content/drive/MyDrive/Fresh and rotten fruit classifiication/DataSet/train/Images.pkl', 'rb'))\r\n",
        "Y=pickle.load(open('/content/drive/MyDrive/Fresh and rotten fruit classifiication/DataSet/train/Labels.pkl', 'rb'))"
      ],
      "execution_count": null,
      "outputs": []
    },
    {
      "cell_type": "code",
      "metadata": {
        "colab": {
          "base_uri": "https://localhost:8080/"
        },
        "id": "h0PRZWJEP0Oz",
        "outputId": "a7972203-927f-4007-e800-f6bfd4fa3da8"
      },
      "source": [
        "X.shape"
      ],
      "execution_count": null,
      "outputs": [
        {
          "output_type": "execute_result",
          "data": {
            "text/plain": [
              "(9497, 100, 100, 3)"
            ]
          },
          "metadata": {
            "tags": []
          },
          "execution_count": 6
        }
      ]
    },
    {
      "cell_type": "code",
      "metadata": {
        "colab": {
          "base_uri": "https://localhost:8080/"
        },
        "id": "LM7s-JtjP5G-",
        "outputId": "5e93b8d5-8957-470a-d3cd-bc118bd5c5df"
      },
      "source": [
        "Y.shape"
      ],
      "execution_count": null,
      "outputs": [
        {
          "output_type": "execute_result",
          "data": {
            "text/plain": [
              "(9497,)"
            ]
          },
          "metadata": {
            "tags": []
          },
          "execution_count": 7
        }
      ]
    },
    {
      "cell_type": "markdown",
      "metadata": {
        "id": "Ptuscle2P8-T"
      },
      "source": [
        "### Scaling Data"
      ]
    },
    {
      "cell_type": "code",
      "metadata": {
        "id": "GvQgP2fOP6ru"
      },
      "source": [
        "X = X/255.0"
      ],
      "execution_count": null,
      "outputs": []
    },
    {
      "cell_type": "markdown",
      "metadata": {
        "id": "ejm1V_oAQDZb"
      },
      "source": [
        "### Creatiing model"
      ]
    },
    {
      "cell_type": "code",
      "metadata": {
        "id": "6ztKlp0IQCJg"
      },
      "source": [
        "def create_model(hp):\r\n",
        "  model=Sequential([\r\n",
        "                    keras.layers.Conv2D(\r\n",
        "                        filters = hp.Int('conv_1_filter', min_value=32, max_value=128, step=16),\r\n",
        "                        kernel_size=hp.Choice('conv_1_kernal', values=[3,5]),\r\n",
        "                        activation = 'relu',\r\n",
        "                        input_shape = (100,100,3)\r\n",
        "                    ),\r\n",
        "                    keras.layers.Conv2D(\r\n",
        "                        filters = hp.Int('conv_2_filter', min_value=32, max_value=128, step=16),\r\n",
        "                        kernel_size=hp.Choice('conv_2_kernel', values=[3,5]),\r\n",
        "                        activation='relu'\r\n",
        "                    ),\r\n",
        "                    keras.layers.Conv2D(\r\n",
        "                        filters = hp.Int('conv_2_filter', min_value=32, max_value=128, step=16),\r\n",
        "                        kernel_size=hp.Choice('conv_2_kernel', values=[3,5]),\r\n",
        "                        activation='relu'\r\n",
        "                    ),\r\n",
        "                    keras.layers.Flatten(),\r\n",
        "                    keras.layers.Dense(\r\n",
        "                        units=hp.Int('dense_1_unit', min_value=32, max_value=128, step=16),\r\n",
        "                        activation='relu'\r\n",
        "                    ),\r\n",
        "                    keras.layers.Dense(1, activation='sigmoid')\r\n",
        "  ])\r\n",
        "\r\n",
        "  model.compile(optimizer = keras.optimizers.Adam(learning_rate=hp.Choice('learning_rate', values=[1e-3, 1e-4])),\r\n",
        "                loss='binary_crossentropy', metrics = ['accuracy'])\r\n",
        "  return model"
      ],
      "execution_count": null,
      "outputs": []
    },
    {
      "cell_type": "code",
      "metadata": {
        "id": "8yzEJHV3QN5B"
      },
      "source": [
        "from kerastuner import RandomSearch\r\n",
        "from kerastuner.engine.hyperparameters import HyperParameters"
      ],
      "execution_count": null,
      "outputs": []
    },
    {
      "cell_type": "code",
      "metadata": {
        "id": "BTDZ_biUQQ3B"
      },
      "source": [
        "tuner_search = RandomSearch(create_model, objective='val_accuracy', max_trials=5, directory = 'Output', project_name = 'Fresh & Rotten Classification7')"
      ],
      "execution_count": null,
      "outputs": []
    },
    {
      "cell_type": "code",
      "metadata": {
        "colab": {
          "base_uri": "https://localhost:8080/"
        },
        "id": "gYQ9x4jKQXoJ",
        "outputId": "c97e514e-93a7-4015-873a-bc9232f22401"
      },
      "source": [
        "tuner_search.search(X,Y, epochs=5, validation_split=0.1)"
      ],
      "execution_count": null,
      "outputs": [
        {
          "output_type": "stream",
          "text": [
            "Trial 5 Complete [00h 01m 52s]\n",
            "val_accuracy: 0.945263147354126\n",
            "\n",
            "Best val_accuracy So Far: 0.9768421053886414\n",
            "Total elapsed time: 00h 09m 59s\n",
            "INFO:tensorflow:Oracle triggered exit\n"
          ],
          "name": "stdout"
        }
      ]
    },
    {
      "cell_type": "code",
      "metadata": {
        "id": "TtxBzKeyRgVy"
      },
      "source": [
        "model=tuner_search.get_best_models(num_models=1)[0]"
      ],
      "execution_count": null,
      "outputs": []
    },
    {
      "cell_type": "code",
      "metadata": {
        "colab": {
          "base_uri": "https://localhost:8080/"
        },
        "id": "G2h8gzHVQanp",
        "outputId": "31d935d8-6352-41d1-bad5-7a3ce3e773d0"
      },
      "source": [
        "model.summary()"
      ],
      "execution_count": null,
      "outputs": [
        {
          "output_type": "stream",
          "text": [
            "Model: \"sequential\"\n",
            "_________________________________________________________________\n",
            "Layer (type)                 Output Shape              Param #   \n",
            "=================================================================\n",
            "conv2d (Conv2D)              (None, 98, 98, 80)        2240      \n",
            "_________________________________________________________________\n",
            "conv2d_1 (Conv2D)            (None, 96, 96, 96)        69216     \n",
            "_________________________________________________________________\n",
            "conv2d_2 (Conv2D)            (None, 94, 94, 96)        83040     \n",
            "_________________________________________________________________\n",
            "flatten (Flatten)            (None, 848256)            0         \n",
            "_________________________________________________________________\n",
            "dense (Dense)                (None, 32)                27144224  \n",
            "_________________________________________________________________\n",
            "dense_1 (Dense)              (None, 1)                 33        \n",
            "=================================================================\n",
            "Total params: 27,298,753\n",
            "Trainable params: 27,298,753\n",
            "Non-trainable params: 0\n",
            "_________________________________________________________________\n"
          ],
          "name": "stdout"
        }
      ]
    },
    {
      "cell_type": "code",
      "metadata": {
        "colab": {
          "base_uri": "https://localhost:8080/"
        },
        "id": "LgHVz5MoS15V",
        "outputId": "6b801b53-ea44-46ba-b086-f5133b660b3e"
      },
      "source": [
        "model.fit(X,Y, epochs=13, validation_split=0.1, initial_epoch=1)"
      ],
      "execution_count": null,
      "outputs": [
        {
          "output_type": "stream",
          "text": [
            "Epoch 2/13\n",
            "  2/268 [..............................] - ETA: 28s - loss: 1.2640e-04 - accuracy: 1.0000WARNING:tensorflow:Callbacks method `on_train_batch_end` is slow compared to the batch time (batch time: 0.0383s vs `on_train_batch_end` time: 0.0858s). Check your callbacks.\n",
            "268/268 [==============================] - 28s 103ms/step - loss: 1.7744e-04 - accuracy: 1.0000 - val_loss: 0.0415 - val_accuracy: 0.9832\n",
            "Epoch 3/13\n",
            "268/268 [==============================] - 28s 104ms/step - loss: 1.0147e-04 - accuracy: 1.0000 - val_loss: 0.0415 - val_accuracy: 0.9832\n",
            "Epoch 4/13\n",
            "268/268 [==============================] - 27s 101ms/step - loss: 7.6385e-05 - accuracy: 1.0000 - val_loss: 0.0444 - val_accuracy: 0.9832\n",
            "Epoch 5/13\n",
            "268/268 [==============================] - 28s 103ms/step - loss: 5.9282e-05 - accuracy: 1.0000 - val_loss: 0.0451 - val_accuracy: 0.9821\n",
            "Epoch 6/13\n",
            "268/268 [==============================] - 28s 104ms/step - loss: 4.7302e-05 - accuracy: 1.0000 - val_loss: 0.0465 - val_accuracy: 0.9842\n",
            "Epoch 7/13\n",
            "268/268 [==============================] - 28s 103ms/step - loss: 3.9092e-05 - accuracy: 1.0000 - val_loss: 0.0490 - val_accuracy: 0.9832\n",
            "Epoch 8/13\n",
            "268/268 [==============================] - 28s 103ms/step - loss: 3.2128e-05 - accuracy: 1.0000 - val_loss: 0.0498 - val_accuracy: 0.9832\n",
            "Epoch 9/13\n",
            "268/268 [==============================] - 28s 104ms/step - loss: 2.6150e-05 - accuracy: 1.0000 - val_loss: 0.0520 - val_accuracy: 0.9811\n",
            "Epoch 10/13\n",
            "268/268 [==============================] - 28s 103ms/step - loss: 2.2387e-05 - accuracy: 1.0000 - val_loss: 0.0535 - val_accuracy: 0.9832\n",
            "Epoch 11/13\n",
            "268/268 [==============================] - 27s 102ms/step - loss: 1.8910e-05 - accuracy: 1.0000 - val_loss: 0.0541 - val_accuracy: 0.9832\n",
            "Epoch 12/13\n",
            "268/268 [==============================] - 28s 103ms/step - loss: 1.5660e-05 - accuracy: 1.0000 - val_loss: 0.0564 - val_accuracy: 0.9832\n",
            "Epoch 13/13\n",
            "268/268 [==============================] - 28s 103ms/step - loss: 1.3449e-05 - accuracy: 1.0000 - val_loss: 0.0565 - val_accuracy: 0.9832\n"
          ],
          "name": "stdout"
        },
        {
          "output_type": "execute_result",
          "data": {
            "text/plain": [
              "<tensorflow.python.keras.callbacks.History at 0x7fd9b2415780>"
            ]
          },
          "metadata": {
            "tags": []
          },
          "execution_count": 38
        }
      ]
    },
    {
      "cell_type": "code",
      "metadata": {
        "id": "V3JALg6qhfWG"
      },
      "source": [
        "df_eval=pd.DataFrame(model.history.history)"
      ],
      "execution_count": null,
      "outputs": []
    },
    {
      "cell_type": "code",
      "metadata": {
        "colab": {
          "base_uri": "https://localhost:8080/",
          "height": 282
        },
        "id": "hEhIEycui6vJ",
        "outputId": "e736adbf-73f4-4fd8-f32d-ec69da1f3e83"
      },
      "source": [
        "df_eval.plot()"
      ],
      "execution_count": null,
      "outputs": [
        {
          "output_type": "execute_result",
          "data": {
            "text/plain": [
              "<matplotlib.axes._subplots.AxesSubplot at 0x7fd9b241c5c0>"
            ]
          },
          "metadata": {
            "tags": []
          },
          "execution_count": 40
        },
        {
          "output_type": "display_data",
          "data": {
            "image/png": "[encoded data removed]",
            "text/plain": [
              "<Figure size 432x288 with 1 Axes>"
            ]
          },
          "metadata": {
            "tags": []
          }
        }
      ]
    },
    {
      "cell_type": "code",
      "metadata": {
        "colab": {
          "base_uri": "https://localhost:8080/",
          "height": 282
        },
        "id": "-Ap5EOCvhh37",
        "outputId": "ae761734-84a7-4556-fa58-f1cd2d889078"
      },
      "source": [
        "df_eval[['accuracy', 'val_accuracy']].plot()"
      ],
      "execution_count": null,
      "outputs": [
        {
          "output_type": "execute_result",
          "data": {
            "text/plain": [
              "<matplotlib.axes._subplots.AxesSubplot at 0x7fd9b25d2cc0>"
            ]
          },
          "metadata": {
            "tags": []
          },
          "execution_count": 41
        },
        {
          "output_type": "display_data",
          "data": {
            "image/png": "[encoded data removed]",
            "text/plain": [
              "<Figure size 432x288 with 1 Axes>"
            ]
          },
          "metadata": {
            "tags": []
          }
        }
      ]
    },
    {
      "cell_type": "code",
      "metadata": {
        "colab": {
          "base_uri": "https://localhost:8080/",
          "height": 282
        },
        "id": "FabtjNjih0_C",
        "outputId": "1eff13e5-24de-4a40-81ff-13ac83c11c5f"
      },
      "source": [
        "df_eval[['loss', 'val_loss']].plot()"
      ],
      "execution_count": null,
      "outputs": [
        {
          "output_type": "execute_result",
          "data": {
            "text/plain": [
              "<matplotlib.axes._subplots.AxesSubplot at 0x7fd9b2367710>"
            ]
          },
          "metadata": {
            "tags": []
          },
          "execution_count": 42
        },
        {
          "output_type": "display_data",
          "data": {
            "image/png": "[encoded data removed]",
            "text/plain": [
              "<Figure size 432x288 with 1 Axes>"
            ]
          },
          "metadata": {
            "tags": []
          }
        }
      ]
    },
    {
      "cell_type": "code",
      "metadata": {
        "id": "AXDOY4ubibfF"
      },
      "source": [
        "model.save('FruitClassifier.h5')"
      ],
      "execution_count": null,
      "outputs": []
    },
    {
      "cell_type": "code",
      "metadata": {
        "id": "H7rAAWi5imVe"
      },
      "source": [
        "from keras.models import load_model"
      ],
      "execution_count": null,
      "outputs": []
    },
    {
      "cell_type": "code",
      "metadata": {
        "colab": {
          "base_uri": "https://localhost:8080/"
        },
        "id": "FFUSPaxRsi8K",
        "outputId": "85c018d0-045b-46a6-be7d-cbde50e79658"
      },
      "source": [
        "loaded_model = load_model('FruitClassifier.h5')"
      ],
      "execution_count": null,
      "outputs": [
        {
          "output_type": "stream",
          "text": [
            "WARNING:tensorflow:Error in loading the saved optimizer state. As a result, your model is starting with a freshly initialized optimizer.\n"
          ],
          "name": "stdout"
        }
      ]
    },
    {
      "cell_type": "code",
      "metadata": {
        "colab": {
          "base_uri": "https://localhost:8080/"
        },
        "id": "tp7C35oghQ38",
        "outputId": "f1b90953-f3de-496e-cd79-e9637489c633"
      },
      "source": [
        "loaded_model.summary()"
      ],
      "execution_count": null,
      "outputs": [
        {
          "output_type": "stream",
          "text": [
            "Model: \"sequential\"\n",
            "_________________________________________________________________\n",
            "Layer (type)                 Output Shape              Param #   \n",
            "=================================================================\n",
            "conv2d (Conv2D)              (None, 98, 98, 80)        2240      \n",
            "_________________________________________________________________\n",
            "conv2d_1 (Conv2D)            (None, 94, 94, 96)        192096    \n",
            "_________________________________________________________________\n",
            "conv2d_2 (Conv2D)            (None, 90, 90, 96)        230496    \n",
            "_________________________________________________________________\n",
            "flatten (Flatten)            (None, 777600)            0         \n",
            "_________________________________________________________________\n",
            "dense (Dense)                (None, 112)               87091312  \n",
            "_________________________________________________________________\n",
            "dense_1 (Dense)              (None, 1)                 113       \n",
            "=================================================================\n",
            "Total params: 87,516,257\n",
            "Trainable params: 87,516,257\n",
            "Non-trainable params: 0\n",
            "_________________________________________________________________\n"
          ],
          "name": "stdout"
        }
      ]
    },
    {
      "cell_type": "code",
      "metadata": {
        "colab": {
          "base_uri": "https://localhost:8080/"
        },
        "id": "c3T93B1Phj1D",
        "outputId": "65d35b1b-8eab-4cd0-ef2f-e5e5658fc09d"
      },
      "source": [
        "loaded_model"
      ],
      "execution_count": null,
      "outputs": [
        {
          "output_type": "execute_result",
          "data": {
            "text/plain": [
              "<tensorflow.python.keras.engine.sequential.Sequential at 0x7fd9b232ca90>"
            ]
          },
          "metadata": {
            "tags": []
          },
          "execution_count": 51
        }
      ]
    },
    {
      "cell_type": "code",
      "metadata": {
        "colab": {
          "base_uri": "https://localhost:8080/"
        },
        "id": "AMjKXjDohsJ9",
        "outputId": "965f3f38-999f-4314-ff58-3f73ef7accbe"
      },
      "source": [
        "loaded_model.evaluate(X,Y, batch_size=10)"
      ],
      "execution_count": null,
      "outputs": [
        {
          "output_type": "stream",
          "text": [
            "950/950 [==============================] - 13s 14ms/step - loss: 0.0057 - accuracy: 0.9983\n"
          ],
          "name": "stdout"
        },
        {
          "output_type": "execute_result",
          "data": {
            "text/plain": [
              "[0.005662905052304268, 0.9983152747154236]"
            ]
          },
          "metadata": {
            "tags": []
          },
          "execution_count": 52
        }
      ]
    },
    {
      "cell_type": "code",
      "metadata": {
        "id": "CmMQa3P-hxI0"
      },
      "source": [
        ""
      ],
      "execution_count": null,
      "outputs": []
    }
  ]
}