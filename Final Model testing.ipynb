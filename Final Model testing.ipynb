{
 "cells": [
  {
   "cell_type": "code",
   "execution_count": 1,
   "metadata": {},
   "outputs": [],
   "source": [
    "from keras.models import load_model\n",
    "import pickle\n",
    "import cv2\n",
    "import numpy as np"
   ]
  },
  {
   "cell_type": "code",
   "execution_count": 2,
   "metadata": {},
   "outputs": [
    {
     "name": "stdout",
     "output_type": "stream",
     "text": [
      "WARNING:tensorflow:Error in loading the saved optimizer state. As a result, your model is starting with a freshly initialized optimizer.\n"
     ]
    }
   ],
   "source": [
    "loaded_model=load_model('FruitClassifier.h5')"
   ]
  },
  {
   "cell_type": "code",
   "execution_count": 3,
   "metadata": {},
   "outputs": [
    {
     "name": "stdout",
     "output_type": "stream",
     "text": [
      "Model: \"sequential\"\n",
      "_________________________________________________________________\n",
      "Layer (type)                 Output Shape              Param #   \n",
      "=================================================================\n",
      "conv2d (Conv2D)              (None, 96, 96, 48)        3648      \n",
      "_________________________________________________________________\n",
      "conv2d_1 (Conv2D)            (None, 92, 92, 112)       134512    \n",
      "_________________________________________________________________\n",
      "conv2d_2 (Conv2D)            (None, 88, 88, 112)       313712    \n",
      "_________________________________________________________________\n",
      "flatten (Flatten)            (None, 867328)            0         \n",
      "_________________________________________________________________\n",
      "dense (Dense)                (None, 48)                41631792  \n",
      "_________________________________________________________________\n",
      "dense_1 (Dense)              (None, 1)                 49        \n",
      "=================================================================\n",
      "Total params: 42,083,713\n",
      "Trainable params: 42,083,713\n",
      "Non-trainable params: 0\n",
      "_________________________________________________________________\n"
     ]
    }
   ],
   "source": [
    "loaded_model.summary()"
   ]
  },
  {
   "cell_type": "code",
   "execution_count": 8,
   "metadata": {},
   "outputs": [],
   "source": [
    "img=cv2.imread('apple_fresh.png')\n",
    "cv2.imshow('Image', img)\n",
    "cv2.waitKey(10000)\n",
    "cv2.destroyAllWindows()"
   ]
  },
  {
   "cell_type": "code",
   "execution_count": 9,
   "metadata": {},
   "outputs": [],
   "source": [
    "def predict_class(img):\n",
    "    img=cv2.resize(img, (100,100))\n",
    "    img=img/255\n",
    "    Img=img.reshape(1,100,100,3)\n",
    "    for i in loaded_model.predict(Img):\n",
    "        for j in i:\n",
    "            if i >= 0.5:\n",
    "            \n",
    "                return 'Rotten'\n",
    "            else:\n",
    "                return 'Fresh'"
   ]
  },
  {
   "cell_type": "code",
   "execution_count": 10,
   "metadata": {},
   "outputs": [
    {
     "data": {
      "text/plain": [
       "'Fresh'"
      ]
     },
     "execution_count": 10,
     "metadata": {},
     "output_type": "execute_result"
    }
   ],
   "source": [
    "predict_class(img)"
   ]
  },
  {
   "cell_type": "code",
   "execution_count": 11,
   "metadata": {},
   "outputs": [],
   "source": [
    "if predict_class(img) == 'Rotten':\n",
    "    cv2.rectangle(img, (10,10), (img.shape[1]-10, img.shape[0]-10), (0,0,255), 2)\n",
    "    cv2.putText(img,'Rotten', (15,30), cv2.FONT_HERSHEY_COMPLEX_SMALL,1, (0,0,255), 1)\n",
    "    cv2.imshow('classified', img)\n",
    "    cv2.waitKey(10000)\n",
    "    cv2.destroyAllWindows()\n",
    "elif predict_class(img) == 'Fresh':\n",
    "    cv2.rectangle(img, (10,10), (img.shape[1]-10, img.shape[0]-10), (0,255,0), 2)\n",
    "    cv2.putText(img,'Fresh', (15,25), cv2.FONT_HERSHEY_COMPLEX_SMALL, 1,(0,255,0), 1)\n",
    "    cv2.imshow('classified', img)\n",
    "    cv2.waitKey(10000)\n",
    "    cv2.destroyAllWindows()"
   ]
  },
  {
   "cell_type": "code",
   "execution_count": 206,
   "metadata": {},
   "outputs": [
    {
     "data": {
      "text/plain": [
       "True"
      ]
     },
     "execution_count": 206,
     "metadata": {},
     "output_type": "execute_result"
    }
   ],
   "source": [
    " cv2.imwrite('rotten_result.png', img)"
   ]
  },
  {
   "cell_type": "code",
   "execution_count": null,
   "metadata": {},
   "outputs": [],
   "source": []
  }
 ],
 "metadata": {
  "kernelspec": {
   "display_name": "Python 3",
   "language": "python",
   "name": "python3"
  },
  "language_info": {
   "codemirror_mode": {
    "name": "ipython",
    "version": 3
   },
   "file_extension": ".py",
   "mimetype": "text/x-python",
   "name": "python",
   "nbconvert_exporter": "python",
   "pygments_lexer": "ipython3",
   "version": "3.7.4"
  }
 },
 "nbformat": 4,
 "nbformat_minor": 2
}
